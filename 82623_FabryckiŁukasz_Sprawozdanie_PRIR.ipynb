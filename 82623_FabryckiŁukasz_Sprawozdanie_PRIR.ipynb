{
  "nbformat": 4,
  "nbformat_minor": 0,
  "metadata": {
    "colab": {
      "provenance": []
    },
    "kernelspec": {
      "name": "python3",
      "display_name": "Python 3"
    },
    "language_info": {
      "name": "python"
    }
  },
  "cells": [
    {
      "cell_type": "markdown",
      "source": [
        "**SPRAWOZDANIE**\n",
        "\n",
        "Programowanie Równoległe i Rozproszone\n",
        "\n",
        "Laboratorium nr 8\n",
        "\n",
        "**Autor**: Fabrycki Łukasz 82623 o kurcze "
      ],
      "metadata": {
        "id": "bp6-UAis2TN5"
      }
    },
    {
      "cell_type": "markdown",
      "source": [
        "________________________________________________________________________________\n",
        "**Zbiór Julii** - zbiór punktów w przestrzeni kompleksowej, który został zdefiniowany przez francuskiego matematyka Gastona Julia w 1918 roku. Jest on używany w teorii liczb kompleksowych i jest szczególnie ważny w dziedzinie fraktali.\n",
        "\n",
        "Aby zdefiniować zbiór Julii, należy wybrać jakąś stałą liczbę kompleksową c i zdefiniować zbiór w następujący sposób: jeśli z jest liczbą kompleksową, to z należy do zbioru Julii, jeśli i tylko wtedy, gdy iteracja zastępująca z = z^2 + c po wielokrotnym jej wykonaniu prowadzi do punktu, który jest blisko zera. Innymi słowy, jeśli po wielokrotnym wykonaniu iteracji z = z^2 + c wartość z nie ulega znaczącemu zmianie, to z należy do zbioru Julii.\n",
        "\n",
        "Zbiór Julii jest zbiorem fraktalnym, co oznacza, że ma on nieregularną strukturę geometryczną, która jest podobna na wszystkich skalach. Może on mieć różne kształty, w zależności od wybranej stałej c, a jego wygląd jest często używany do tworzenia atrakcyjnych obrazów w grafice komputerowej.\n",
        "\n",
        "________________________________________________________________________________\n",
        "\n",
        "**Zbiór Mandelbrota** - fraktal, który został opisany przez Benoît Mandelbrot w 1980 roku. Jest to zbiór punktów w przestrzeni kompleksowej, który jest zdefiniowany przez iterację zastępującą z = z^2 + c, gdzie z i c są liczbami kompleksowymi.\n",
        "\n",
        "Aby sprawdzić, czy dany punkt z należy do zbioru Mandelbrota, należy wielokrotnie wykonywać iterację z = z^2 + c, zaczynając od z = 0 i sprawdzając, czy wartość z nie rośnie zbyt szybko. Jeśli po wielokrotnym wykonaniu iteracji wartość z nie ulega znaczącemu wzrostowi, to punkt c należy do zbioru Mandelbrota. W przeciwnym razie punkt c nie należy do zbioru Mandelbrota.\n",
        "\n",
        "Zbiór Mandelbrota jest fraktalem, co oznacza, że ma on nieregularną strukturę geometryczną, która jest podobna na wszystkich skalach. Może on przybierać różne kształty i jest często używany do tworzenia atrakcyjnych obrazów w grafice komputerowej.\n",
        "________________________________________________________________________________\n",
        "\n",
        "**CUDA** - technologia opracowana przez firmę NVIDIA, która umożliwia programistom wykorzystanie mocy obliczeniowej kart graficznych (GPU) do obliczeń naukowych i innych zastosowań wymagających dużej mocy obliczeniowej.\n",
        "\n",
        "CUDA to architektura programowania, która umożliwia programistom napisanie kodu, który jest uruchamiany na GPU zamiast na procesorze (CPU). Dzięki temu programiści mogą skorzystać z dużej mocy obliczeniowej GPU do wykonywania obliczeń równolegle, co pozwala na znaczne przyspieszenie wykonywania obliczeń.\n",
        "\n",
        "CUDA jest szeroko stosowana w różnych dziedzinach, takich jak obliczenia naukowe, sztuczna inteligencja, symulacje fizyczne, rendering 3D i inne. Pozwala to programistom na tworzenie aplikacji, które mogą wykonywać obliczenia w dużym zakresie w sposób szybszy i bardziej wydajny niż przy użyciu procesora CPU.\n",
        "\n",
        "________________________________________________________________________________"
      ],
      "metadata": {
        "id": "WVVcJ0vj2UdZ"
      }
    },
    {
      "cell_type": "markdown",
      "source": [
        "1. Julia CPU"
      ],
      "metadata": {
        "id": "oJX6hL1D5J-i"
      }
    },
    {
      "cell_type": "code",
      "execution_count": null,
      "metadata": {
        "id": "O5IUl-4G2Sxz"
      },
      "outputs": [],
      "source": [
        "%%cu \n",
        "#include<stdio.h>\n",
        "#define DIM 2000\n",
        "\n",
        "struct cuComplex{\n",
        "    float r;\n",
        "    float i;\n",
        "    cuComplex(float a, float b):r(a),i(b){}\n",
        "    float magnitude2(void){return r*r+i*i;}\n",
        "    cuComplex operator*(const cuComplex &a){ return cuComplex(r*a.r-i*a.i,i*a.r+r*a.i); }\n",
        "    cuComplex operator+(const cuComplex &a){ return cuComplex(r+a.r,i+a.i); }\n",
        "};\n",
        "    int julia(int x, int y){\n",
        "    const float scale=1.5;\n",
        "    float jx=scale*(float)(DIM/2-x)/(DIM/2);\n",
        "    float jy=scale*(float)(DIM/2-y)/(DIM/2);\n",
        "    cuComplex c(-0.8,0.156);\n",
        "    cuComplex a(jx,jy);\n",
        "    int i=0;\n",
        "    for(i=0;i<200;i++){\n",
        "        a=a*a+c;\n",
        "        if(a.magnitude2()>1000) return 0;\n",
        "    }\n",
        "    return 1;\n",
        "}\n",
        "    void kernel(unsigned char *ptr){\n",
        "        for(int y=0;y<DIM;y++){\n",
        "        for(int x=0;x<DIM;x++){\n",
        "            int offset=x+y*DIM;\n",
        "            int juliaValue=julia(x,y);\n",
        "            ptr[offset*4+0]=255*juliaValue;\n",
        "            ptr[offset*4+1]=0;\n",
        "            ptr[offset*4+2]=0;\n",
        "            ptr[offset*4+3]=255;\n",
        "          }\n",
        "        }\n",
        "    }\n",
        "  \n",
        "struct DataBlock{\n",
        "    unsigned char *dev_bitmap;\n",
        "};\n",
        "\n",
        "void wypisz_RGB_fraktal(unsigned char *ptr){\n",
        "    for(int y=0;y<DIM;y++){\n",
        "        for(int x=0;x<DIM;x++){\n",
        "            int offset=x+y*DIM;\n",
        "            printf(\"\\n%d, %d, %d, %d\", ptr[offset*4+0], ptr[offset*4+1], ptr[offset*4+2], ptr[offset*4+3]);\n",
        "        }\n",
        "    }\n",
        "}\n",
        "void save_to_file(unsigned char *ptr){\n",
        "    FILE *fp=fopen(\"Fraktal_CPU.ppm\",\"w\");\n",
        "    fprintf(fp,\"P3\\n%d %d\\n255\\n\", DIM, DIM);\n",
        "     for(int y=0;y<DIM;y++){\n",
        "        for(int x=0;x<DIM;x++){\n",
        "            int offset=x+y*DIM;\n",
        "            fprintf(fp,\"\\n%d %d %d\", ptr[offset*4+0], ptr[offset*4+1], ptr[offset*4+2]);\n",
        "        }\n",
        "}\n",
        "fclose(fp);\n",
        "}\n",
        "int main(void){\n",
        "    clock_t start, end;\n",
        "    double execution_time;\n",
        "    start = clock();\n",
        "    DataBlock data;\n",
        "    unsigned char *bitmap = (unsigned char*)malloc(DIM*DIM*4*sizeof(unsigned char));\n",
        "    int image_size = DIM*DIM*4;\n",
        "    kernel(bitmap);\n",
        "    save_to_file (bitmap);\n",
        "    end = clock();\n",
        "    execution_time = ((double)(end - start))/CLOCKS_PER_SEC;\n",
        "    printf(\"Time taken to execute in seconds : %f\", execution_time);\n",
        "}\n"
      ]
    },
    {
      "cell_type": "markdown",
      "source": [
        "2. Julia GPU"
      ],
      "metadata": {
        "id": "hHWe58pT5Q6d"
      }
    },
    {
      "cell_type": "code",
      "source": [
        "%%cu \n",
        "#include<stdio.h>\n",
        "#define DIM 2000\n",
        "struct cuComplex{\n",
        "    float r;\n",
        "    float i;\n",
        "    __device__ cuComplex(float a, float b):r(a),i(b){}\n",
        "    __device__ float magnitude2(void){ return r*r+i*i; }\n",
        "    __device__ cuComplex operator*(const cuComplex &a){ return cuComplex(r*a.r-i*a.i,i*a.r+r*a.i); }\n",
        "    __device__ cuComplex operator+(const cuComplex &a){ return cuComplex(r+a.r,i+a.i); }\n",
        "};\n",
        "__device__ int julia(int x, int y){\n",
        "    const float scale=1.5;\n",
        "    float jx=scale*(float)(DIM/2-x)/(DIM/2);\n",
        "    float jy=scale*(float)(DIM/2-y)/(DIM/2);\n",
        "    cuComplex c(-0.8,0.156);\n",
        "    cuComplex a(jx,jy);\n",
        "    int i=0;\n",
        "    for(i=0;i<200;i++){\n",
        "        a=a*a+c;\n",
        "        if(a.magnitude2()>1000) return 0;\n",
        "    }\n",
        "    return 1;\n",
        "}\n",
        "__global__ void kernel(unsigned char *ptr){\n",
        "    int x=blockIdx.x;\n",
        "    int y=blockIdx.y;\n",
        "    int offset=x+y*gridDim.x;\n",
        "\n",
        "    int juliaValue=julia(x,y);\n",
        "    ptr[offset*4+0]=255*juliaValue;\n",
        "    ptr[offset*4+1]=0;\n",
        "    ptr[offset*4+2]=0;\n",
        "    ptr[offset*4+3]=255;\n",
        "}\n",
        "struct DataBlock{\n",
        "    unsigned char *dev_bitmap;\n",
        "};\n",
        "\n",
        "void wypisz_RGB_fraktal(unsigned char *ptr){\n",
        "    for(int y=0;y<DIM;y++){\n",
        "        for(int x=0;x<DIM;x++){\n",
        "            int offset=x+y*DIM;\n",
        "            printf(\"\\n%d, %d, %d, %d\", ptr[offset*4+0], ptr[offset*4+1], ptr[offset*4+2], ptr[offset*4+3]);\n",
        "        }\n",
        "    }\n",
        "}\n",
        "void save_to_file(unsigned char *ptr){\n",
        "    FILE *fp=fopen(\"Fraktal_GPU.ppm\",\"w\");\n",
        "    fprintf(fp,\"P3\\n%d %d\\n255\\n\", DIM, DIM);\n",
        "     for(int y=0;y<DIM;y++){\n",
        "        for(int x=0;x<DIM;x++){\n",
        "            int offset=x+y*DIM;\n",
        "            fprintf(fp,\"\\n%d %d %d\", ptr[offset*4+0], ptr[offset*4+1], ptr[offset*4+2]);\n",
        "        }\n",
        "}\n",
        "fclose(fp);\n",
        "}\n",
        "int main(void){\n",
        "    clock_t start, end;\n",
        "    double execution_time;\n",
        "    start = clock();\n",
        "    DataBlock data;\n",
        "    unsigned char *bitmap = (unsigned char*)malloc(DIM*DIM*4*sizeof(unsigned char));\n",
        "    int image_size = DIM*DIM*4;\n",
        "    unsigned char *dev_bitmap;\n",
        "\n",
        "    cudaMalloc((void**)&dev_bitmap, image_size);\n",
        "    data.dev_bitmap=dev_bitmap;\n",
        "    dim3 grid(DIM,DIM);\n",
        "    kernel<<<grid,1>>>(dev_bitmap);\n",
        "    cudaMemcpy(bitmap,dev_bitmap,image_size,cudaMemcpyDeviceToHost);\n",
        "    cudaFree(dev_bitmap);\n",
        "    save_to_file (bitmap);\n",
        "    end = clock();\n",
        "    execution_time = ((double)(end - start))/CLOCKS_PER_SEC;\n",
        "    printf(\"Time taken to execute in seconds : %f\", execution_time);\n",
        "}\n"
      ],
      "metadata": {
        "id": "oqWIlmIS5UQn"
      },
      "execution_count": null,
      "outputs": []
    },
    {
      "cell_type": "markdown",
      "source": [
        "Porównanie"
      ],
      "metadata": {
        "id": "2-ggdNiu5ens"
      }
    },
    {
      "cell_type": "code",
      "source": [
        "import matplotlib.pyplot as plt\n",
        "\n",
        "dims = (1000, 5000, 10000)\n",
        "timeCPU = (0.947622, 24.114844, 95.583010)\n",
        "timeGPU = (0.811615, 4.371521, 15.140495)\n",
        "\n",
        "\n",
        "plt.plot(dims, timeCPU, label='CPU')\n",
        "plt.plot(dims, timeGPU, label='GPU')\n",
        "plt.xlabel(\"Rozmiar DIM\")\n",
        "plt.ylabel(\"Czas w sek.\")\n",
        "plt.title(\"Wykres generowania fraktali Julii CPU vs GPU\")\n",
        "plt.legend()\n",
        "plt.show()"
      ],
      "metadata": {
        "colab": {
          "base_uri": "https://localhost:8080/",
          "height": 295
        },
        "id": "6PKoo6qn7QBR",
        "outputId": "249ded25-7db7-494c-89f3-606ae7c74513"
      },
      "execution_count": 1,
      "outputs": [
        {
          "output_type": "display_data",
          "data": {
            "text/plain": [
              "<Figure size 432x288 with 1 Axes>"
            ],
            "image/png": "[encoded data removed]"
          },
          "metadata": {
            "needs_background": "light"
          }
        }
      ]
    },
    {
      "cell_type": "markdown",
      "source": [
        "3. Mandelbrot CPU"
      ],
      "metadata": {
        "id": "VyweeprF5W9h"
      }
    },
    {
      "cell_type": "code",
      "source": [
        "%%cu \n",
        "#include<stdio.h>\n",
        "#define DIM 6000\n",
        "\n",
        "struct cuComplex{\n",
        "    float r;\n",
        "    float i;\n",
        "    cuComplex(float a, float b):r(a),i(b){}\n",
        "    float magnitude2(void){return r*r+i*i;}\n",
        "    cuComplex operator*(const cuComplex &a){ return cuComplex(r*a.r-i*a.i,i*a.r+r*a.i); }\n",
        "    cuComplex operator+(const cuComplex &a){ return cuComplex(r+a.r,i+a.i); }\n",
        "};\n",
        "    int mandelbrot(int x, int y){\n",
        "    const float scale=1.5;\n",
        "    float jx=scale*(float)(DIM/2-x)/(DIM/2);\n",
        "    float jy=scale*(float)(DIM/2-y)/(DIM/2);\n",
        "    cuComplex c(jx,jy);\n",
        "    cuComplex a(0,0);\n",
        "    int i=0;\n",
        "    for(i=0;i<200;i++){\n",
        "        a=a*a+c;\n",
        "        if(a.magnitude2()>1000) return 0;\n",
        "    }\n",
        "    return 1;\n",
        "}\n",
        "    void kernel(unsigned char *ptr){\n",
        "        for(int y=0;y<DIM;y++){\n",
        "        for(int x=0;x<DIM;x++){\n",
        "            int offset=x+y*DIM;\n",
        "            int mandelbrotValue=mandelbrot(x,y);\n",
        "            ptr[offset*4+0]=255*mandelbrotValue;\n",
        "            ptr[offset*4+1]=0;\n",
        "            ptr[offset*4+2]=0;\n",
        "            ptr[offset*4+3]=255;\n",
        "          }\n",
        "        }\n",
        "    }\n",
        "  \n",
        "struct DataBlock{\n",
        "    unsigned char *dev_bitmap;\n",
        "};\n",
        "\n",
        "void wypisz_RGB_fraktal(unsigned char *ptr){\n",
        "    for(int y=0;y<DIM;y++){\n",
        "        for(int x=0;x<DIM;x++){\n",
        "            int offset=x+y*DIM;\n",
        "            printf(\"\\n%d, %d, %d, %d\", ptr[offset*4+0], ptr[offset*4+1], ptr[offset*4+2], ptr[offset*4+3]);\n",
        "        }\n",
        "    }\n",
        "}\n",
        "void save_to_file(unsigned char *ptr){\n",
        "    FILE *fp=fopen(\"Fraktal_CPU.ppm\",\"w\");\n",
        "    fprintf(fp,\"P3\\n%d %d\\n255\\n\", DIM, DIM);\n",
        "     for(int y=0;y<DIM;y++){\n",
        "        for(int x=0;x<DIM;x++){\n",
        "            int offset=x+y*DIM;\n",
        "            fprintf(fp,\"\\n%d %d %d\", ptr[offset*4+0], ptr[offset*4+1], ptr[offset*4+2]);\n",
        "        }\n",
        "}\n",
        "fclose(fp);\n",
        "}\n",
        "int main(void){\n",
        "    clock_t start, end;\n",
        "    double execution_time;\n",
        "    start = clock();\n",
        "    DataBlock data;\n",
        "    unsigned char *bitmap = (unsigned char*)malloc(DIM*DIM*4*sizeof(unsigned char));\n",
        "    int image_size = DIM*DIM*4;\n",
        "    kernel(bitmap);\n",
        "    save_to_file (bitmap);\n",
        "    end = clock();\n",
        "    execution_time = ((double)(end - start))/CLOCKS_PER_SEC;\n",
        "    printf(\"Time taken to execute in seconds : %f\", execution_time);\n",
        "}\n"
      ],
      "metadata": {
        "id": "Y7cFI4rR5cTz"
      },
      "execution_count": null,
      "outputs": []
    },
    {
      "cell_type": "markdown",
      "source": [
        "4. Mandelbrot GPU"
      ],
      "metadata": {
        "id": "d1XjAVX55chr"
      }
    },
    {
      "cell_type": "code",
      "source": [
        "%%cu\n",
        "#include<stdio.h>\n",
        "#define DIM 6000\n",
        "struct cuComplex{\n",
        "    float r;\n",
        "    float i;\n",
        "    __device__ cuComplex(float a, float b):r(a),i(b){}\n",
        "    __device__ float magnitude2(void){ return r*r+i*i; }\n",
        "    __device__ cuComplex operator*(const cuComplex &a){ return cuComplex(r*a.r-i*a.i,i*a.r+r*a.i); }\n",
        "    __device__ cuComplex operator+(const cuComplex &a){ return cuComplex(r+a.r,i+a.i); }\n",
        "};\n",
        "__device__  int mandelbrot(int x, int y){\n",
        "    const float scale=1.5;\n",
        "    float jx=scale*(float)(DIM/2-x)/(DIM/2);\n",
        "    float jy=scale*(float)(DIM/2-y)/(DIM/2);\n",
        "    cuComplex c(jx,jy);\n",
        "    cuComplex a(0,0);\n",
        "    int i=0;\n",
        "    for(i=0;i<200;i++){\n",
        "        a=a*a+c;\n",
        "        if(a.magnitude2()>1000) return 0; \n",
        "    }\n",
        "    return 1;\n",
        "}\n",
        "__global__ void kernel(unsigned char *ptr){\n",
        "    int x=blockIdx.x;\n",
        "    int y=blockIdx.y;\n",
        "    int offset=x+y*gridDim.x;\n",
        "\n",
        "    int mandelbrotValue=mandelbrot(x,y);\n",
        "    ptr[offset*4+0]=255*mandelbrotValue;\n",
        "    ptr[offset*4+1]=0;\n",
        "    ptr[offset*4+2]=0;\n",
        "    ptr[offset*4+3]=255;\n",
        "}\n",
        "struct DataBlock{\n",
        "    unsigned char *dev_bitmap;\n",
        "};\n",
        "\n",
        "void wypisz_RGB_fraktal(unsigned char *ptr){\n",
        "    for(int y=0;y<DIM;y++){\n",
        "        for(int x=0;x<DIM;x++){\n",
        "            int offset=x+y*DIM;\n",
        "            printf(\"\\n%d, %d, %d, %d\", ptr[offset*4+0], ptr[offset*4+1], ptr[offset*4+2], ptr[offset*4+3]);\n",
        "        }\n",
        "    }\n",
        "}\n",
        "void save_to_file(unsigned char *ptr){\n",
        "    FILE *fp=fopen(\"Fraktal_GPU.ppm\",\"w\");\n",
        "    fprintf(fp,\"P3\\n%d %d\\n255\\n\", DIM, DIM);\n",
        "     for(int y=0;y<DIM;y++){\n",
        "        for(int x=0;x<DIM;x++){\n",
        "            int offset=x+y*DIM;\n",
        "            fprintf(fp,\"\\n%d %d %d\", ptr[offset*4+0], ptr[offset*4+1],ptr[offset*4+2]);\n",
        "        }\n",
        "}\n",
        "fclose(fp);\n",
        "}\n",
        "                    \n",
        "\n",
        "\n",
        "int main(void){\n",
        "    clock_t start, end;\n",
        "    double execution_time;\n",
        "    start = clock();\n",
        "    DataBlock data;\n",
        "    unsigned char *bitmap = (unsigned char*)malloc(DIM*DIM*4*sizeof(unsigned char));\n",
        "    int image_size = DIM*DIM*4;\n",
        "    unsigned char *dev_bitmap;\n",
        "\n",
        "    cudaMalloc((void**)&dev_bitmap, image_size);\n",
        "    data.dev_bitmap=dev_bitmap;\n",
        "    dim3 grid(DIM,DIM);\n",
        "    kernel<<<grid,1>>>(dev_bitmap);\n",
        "    cudaMemcpy(bitmap,dev_bitmap,image_size,cudaMemcpyDeviceToHost);\n",
        "    cudaFree(dev_bitmap);\n",
        "    save_to_file (bitmap);\n",
        "    end = clock();\n",
        "    execution_time = ((double)(end - start))/CLOCKS_PER_SEC;\n",
        "    printf(\"Time taken to execute in seconds : %f\", execution_time);\n",
        "}\n"
      ],
      "metadata": {
        "id": "wFrmXwjd5fLF"
      },
      "execution_count": null,
      "outputs": []
    },
    {
      "cell_type": "markdown",
      "source": [
        "Porównanie"
      ],
      "metadata": {
        "id": "jLQ4BYgL7hWi"
      }
    },
    {
      "cell_type": "code",
      "source": [
        "import matplotlib.pyplot as plt\n",
        "\n",
        "dims = (1000, 5000, 10000)\n",
        "timeCPU = (0.947622, 24.114844, 95.583010)\n",
        "timeGPU = (0.811615, 4.371521, 15.140495)\n",
        "\n",
        "\n",
        "plt.plot(dims, timeCPU, label='CPU')\n",
        "plt.plot(dims, timeGPU, label='GPU')\n",
        "plt.xlabel(\"Rozmiar DIM\")\n",
        "plt.ylabel(\"Czas w sek.\")\n",
        "plt.title(\"Wykres generowania fraktali Mandelbrota CPU vs GPU\")\n",
        "plt.legend()\n",
        "plt.show()"
      ],
      "metadata": {
        "colab": {
          "base_uri": "https://localhost:8080/",
          "height": 295
        },
        "id": "mALdNIZs7zRj",
        "outputId": "d5ee78d5-9352-4a6e-e59a-4b921694b642"
      },
      "execution_count": 2,
      "outputs": [
        {
          "output_type": "display_data",
          "data": {
            "text/plain": [
              "<Figure size 432x288 with 1 Axes>"
            ],
            "image/png": "[encoded data removed]"
          },
          "metadata": {
            "needs_background": "light"
          }
        }
      ]
    }
  ]
}
